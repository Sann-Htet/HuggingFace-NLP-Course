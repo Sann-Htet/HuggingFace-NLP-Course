{
 "cells": [
  {
   "cell_type": "markdown",
   "id": "380ad67d",
   "metadata": {},
   "source": [
    "# Creating a Transformer\n",
    "The first thing we’ll need to do to initialize a BERT model is load a configuration object:"
   ]
  },
  {
   "cell_type": "code",
   "execution_count": 1,
   "id": "3efe7461",
   "metadata": {},
   "outputs": [
    {
     "name": "stderr",
     "output_type": "stream",
     "text": [
      "2023-09-05 19:29:46.929886: I tensorflow/tsl/cuda/cudart_stub.cc:28] Could not find cuda drivers on your machine, GPU will not be used.\n",
      "2023-09-05 19:29:47.146137: I tensorflow/tsl/cuda/cudart_stub.cc:28] Could not find cuda drivers on your machine, GPU will not be used.\n",
      "2023-09-05 19:29:47.147840: I tensorflow/core/platform/cpu_feature_guard.cc:182] This TensorFlow binary is optimized to use available CPU instructions in performance-critical operations.\n",
      "To enable the following instructions: AVX2 FMA, in other operations, rebuild TensorFlow with the appropriate compiler flags.\n",
      "2023-09-05 19:29:49.348002: W tensorflow/compiler/tf2tensorrt/utils/py_utils.cc:38] TF-TRT Warning: Could not find TensorRT\n",
      "2023-09-05 19:29:52.808571: W tensorflow/core/common_runtime/gpu/gpu_device.cc:1956] Cannot dlopen some GPU libraries. Please make sure the missing libraries mentioned above are installed properly if you would like to use GPU. Follow the guide at https://www.tensorflow.org/install/gpu for how to download and setup the required libraries for your platform.\n",
      "Skipping registering GPU devices...\n"
     ]
    }
   ],
   "source": [
    "from transformers import BertConfig, TFBertModel\n",
    "\n",
    "# Building the config\n",
    "config = BertConfig()\n",
    "\n",
    "# Building the model from the config\n",
    "model = TFBertModel(config)"
   ]
  },
  {
   "cell_type": "code",
   "execution_count": 2,
   "id": "20751e1d",
   "metadata": {},
   "outputs": [
    {
     "name": "stdout",
     "output_type": "stream",
     "text": [
      "BertConfig {\n",
      "  \"attention_probs_dropout_prob\": 0.1,\n",
      "  \"classifier_dropout\": null,\n",
      "  \"hidden_act\": \"gelu\",\n",
      "  \"hidden_dropout_prob\": 0.1,\n",
      "  \"hidden_size\": 768,\n",
      "  \"initializer_range\": 0.02,\n",
      "  \"intermediate_size\": 3072,\n",
      "  \"layer_norm_eps\": 1e-12,\n",
      "  \"max_position_embeddings\": 512,\n",
      "  \"model_type\": \"bert\",\n",
      "  \"num_attention_heads\": 12,\n",
      "  \"num_hidden_layers\": 12,\n",
      "  \"pad_token_id\": 0,\n",
      "  \"position_embedding_type\": \"absolute\",\n",
      "  \"transformers_version\": \"4.32.0\",\n",
      "  \"type_vocab_size\": 2,\n",
      "  \"use_cache\": true,\n",
      "  \"vocab_size\": 30522\n",
      "}\n",
      "\n"
     ]
    }
   ],
   "source": [
    "print(config)"
   ]
  },
  {
   "cell_type": "markdown",
   "id": "4e035c8c",
   "metadata": {},
   "source": [
    "# Different loading methods\n",
    "Creating a model from the default configuration initializes it with random values:"
   ]
  },
  {
   "cell_type": "code",
   "execution_count": 3,
   "id": "1ac70139",
   "metadata": {},
   "outputs": [],
   "source": [
    "from transformers import BertConfig, TFBertModel\n",
    "\n",
    "config = BertConfig()\n",
    "model = TFBertModel(config)\n",
    "\n",
    "# Model is randomly initialized"
   ]
  },
  {
   "cell_type": "code",
   "execution_count": 4,
   "id": "451a7246",
   "metadata": {},
   "outputs": [
    {
     "name": "stderr",
     "output_type": "stream",
     "text": [
      "2023-09-05 19:32:57.039139: W tensorflow/tsl/framework/cpu_allocator_impl.cc:83] Allocation of 89075712 exceeds 10% of free system memory.\n",
      "2023-09-05 19:32:57.272088: W tensorflow/tsl/framework/cpu_allocator_impl.cc:83] Allocation of 89075712 exceeds 10% of free system memory.\n",
      "2023-09-05 19:32:57.302304: W tensorflow/tsl/framework/cpu_allocator_impl.cc:83] Allocation of 89075712 exceeds 10% of free system memory.\n",
      "2023-09-05 19:32:59.877579: W tensorflow/tsl/framework/cpu_allocator_impl.cc:83] Allocation of 89075712 exceeds 10% of free system memory.\n",
      "2023-09-05 19:32:59.961814: W tensorflow/tsl/framework/cpu_allocator_impl.cc:83] Allocation of 89075712 exceeds 10% of free system memory.\n",
      "Some weights of the PyTorch model were not used when initializing the TF 2.0 model TFBertModel: ['cls.predictions.transform.LayerNorm.weight', 'cls.predictions.transform.dense.weight', 'cls.predictions.transform.LayerNorm.bias', 'cls.seq_relationship.bias', 'cls.predictions.transform.dense.bias', 'cls.seq_relationship.weight', 'cls.predictions.bias']\n",
      "- This IS expected if you are initializing TFBertModel from a PyTorch model trained on another task or with another architecture (e.g. initializing a TFBertForSequenceClassification model from a BertForPreTraining model).\n",
      "- This IS NOT expected if you are initializing TFBertModel from a PyTorch model that you expect to be exactly identical (e.g. initializing a TFBertForSequenceClassification model from a BertForSequenceClassification model).\n",
      "All the weights of TFBertModel were initialized from the PyTorch model.\n",
      "If your task is similar to the task the model of the checkpoint was trained on, you can already use TFBertModel for predictions without further training.\n"
     ]
    }
   ],
   "source": [
    "from transformers import TFBertModel\n",
    "\n",
    "model = TFBertModel.from_pretrained(\"bert-base-cased\")"
   ]
  },
  {
   "cell_type": "markdown",
   "id": "f70c45cb",
   "metadata": {},
   "source": [
    "# Saving methods\n",
    "Saving a model is as easy as loading one — we use the `save_pretrained()` method, which is analogous to the `from_pretrained()` method:"
   ]
  },
  {
   "cell_type": "code",
   "execution_count": 5,
   "id": "4f39f88b",
   "metadata": {},
   "outputs": [],
   "source": [
    "model.save_pretrained(\"my_bert_model\")"
   ]
  },
  {
   "cell_type": "code",
   "execution_count": 6,
   "id": "007a17e6",
   "metadata": {},
   "outputs": [
    {
     "name": "stdout",
     "output_type": "stream",
     "text": [
      "config.json  tf_model.h5\r\n"
     ]
    }
   ],
   "source": [
    "ls my_bert_model/"
   ]
  },
  {
   "cell_type": "markdown",
   "id": "ad53227a",
   "metadata": {},
   "source": [
    "# Using a Transformer model for inference"
   ]
  },
  {
   "cell_type": "code",
   "execution_count": 7,
   "id": "0b249892",
   "metadata": {},
   "outputs": [],
   "source": [
    "sequences = [\"Hello!\", \"Cool.\", \"Nice!\"]\n",
    "\n",
    "encoded_sequences = [\n",
    "    [101, 7592, 999, 102],\n",
    "    [101, 4658, 1012, 102],\n",
    "    [101, 3835, 999, 102],\n",
    "]"
   ]
  },
  {
   "cell_type": "code",
   "execution_count": 8,
   "id": "f2e16a02",
   "metadata": {},
   "outputs": [],
   "source": [
    "import tensorflow as tf\n",
    "\n",
    "model_inputs = tf.constant(encoded_sequences)"
   ]
  },
  {
   "cell_type": "markdown",
   "id": "95c69623",
   "metadata": {},
   "source": [
    "## Using the tensors as inputs to the model"
   ]
  },
  {
   "cell_type": "code",
   "execution_count": 9,
   "id": "68d248cb",
   "metadata": {},
   "outputs": [],
   "source": [
    "output = model(model_inputs)"
   ]
  },
  {
   "cell_type": "code",
   "execution_count": 10,
   "id": "862a6a96",
   "metadata": {},
   "outputs": [
    {
     "name": "stdout",
     "output_type": "stream",
     "text": [
      "TFBaseModelOutputWithPoolingAndCrossAttentions(last_hidden_state=<tf.Tensor: shape=(3, 4, 768), dtype=float32, numpy=\n",
      "array([[[ 4.44957256e-01,  4.82762277e-01,  2.77971894e-01, ...,\n",
      "         -5.40324897e-02,  3.93934578e-01, -9.47703347e-02],\n",
      "        [ 2.49428689e-01, -4.40929949e-01,  8.17723572e-01, ...,\n",
      "         -3.19165587e-01,  2.29922295e-01, -4.11716327e-02],\n",
      "        [ 1.36675790e-01,  2.25178137e-01,  1.45019814e-01, ...,\n",
      "         -4.69152890e-02,  2.82242328e-01,  7.55655095e-02],\n",
      "        [ 1.17888558e+00,  1.67384759e-01, -1.81870908e-01, ...,\n",
      "          2.46713594e-01,  1.04407680e+00, -6.19707955e-03]],\n",
      "\n",
      "       [[ 3.64358842e-01,  3.24640907e-02,  2.02576429e-01, ...,\n",
      "          6.01100512e-02,  3.24513525e-01, -2.09953822e-02],\n",
      "        [ 7.18659699e-01, -4.87252027e-01,  5.17404079e-01, ...,\n",
      "         -4.40120250e-01,  1.45530418e-01, -3.75447571e-02],\n",
      "        [ 3.32232863e-01, -2.32709110e-01,  9.48756486e-02, ...,\n",
      "         -2.52681851e-01,  3.21719974e-01,  8.11317470e-04],\n",
      "        [ 1.25232100e+00,  3.57543886e-01, -5.13197184e-02, ...,\n",
      "         -3.78398836e-01,  1.05264747e+00, -5.62547684e-01]],\n",
      "\n",
      "       [[ 2.40422457e-01,  1.47178009e-01,  1.21103324e-01, ...,\n",
      "          7.60616064e-02,  3.35644454e-01,  2.82616794e-01],\n",
      "        [ 6.57005847e-01, -3.27865690e-01,  2.49676019e-01, ...,\n",
      "         -2.59195089e-01,  2.01746941e-01,  3.32751244e-01],\n",
      "        [ 2.01595604e-01,  1.57827303e-01,  9.89700016e-03, ...,\n",
      "         -3.88505012e-01,  4.13074642e-01,  3.97319734e-01],\n",
      "        [ 1.01749742e+00,  6.43866956e-01, -7.81466842e-01, ...,\n",
      "         -4.21090305e-01,  1.09250581e+00, -4.84557934e-02]]],\n",
      "      dtype=float32)>, pooler_output=<tf.Tensor: shape=(3, 768), dtype=float32, numpy=\n",
      "array([[-0.68562776,  0.5262493 ,  0.9999528 , ...,  0.9999873 ,\n",
      "        -0.61123437,  0.99706566],\n",
      "       [-0.6054584 ,  0.4997172 ,  0.99981916, ...,  0.999941  ,\n",
      "        -0.67532724,  0.9769267 ],\n",
      "       [-0.77015066,  0.54474145,  0.9999417 , ...,  0.9999846 ,\n",
      "        -0.46549377,  0.9893901 ]], dtype=float32)>, past_key_values=None, hidden_states=None, attentions=None, cross_attentions=None)\n"
     ]
    }
   ],
   "source": [
    "print(output)"
   ]
  },
  {
   "cell_type": "markdown",
   "id": "d1021aa8",
   "metadata": {},
   "source": [
    "---"
   ]
  },
  {
   "cell_type": "markdown",
   "id": "8ba1b583",
   "metadata": {},
   "source": [
    "---"
   ]
  }
 ],
 "metadata": {
  "kernelspec": {
   "display_name": "Python 3 (ipykernel)",
   "language": "python",
   "name": "python3"
  },
  "language_info": {
   "codemirror_mode": {
    "name": "ipython",
    "version": 3
   },
   "file_extension": ".py",
   "mimetype": "text/x-python",
   "name": "python",
   "nbconvert_exporter": "python",
   "pygments_lexer": "ipython3",
   "version": "3.11.4"
  }
 },
 "nbformat": 4,
 "nbformat_minor": 5
}
